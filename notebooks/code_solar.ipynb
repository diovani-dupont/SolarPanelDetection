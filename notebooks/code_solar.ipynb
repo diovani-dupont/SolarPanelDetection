{
 "cells": [
  {
   "cell_type": "markdown",
   "source": [
    "1. Configuração Inicial"
   ],
   "metadata": {
    "collapsed": false
   }
  },
  {
   "cell_type": "code",
   "execution_count": 1,
   "outputs": [],
   "source": [
    "import rasterio\n",
    "import numpy as np\n",
    "import matplotlib.pyplot as plt\n",
    "import cv2\n",
    "import os\n",
    "from PIL import Image\n",
    "from tensorflow.keras.models import Model\n",
    "from keras.layers import Input, Conv2D, MaxPooling2D, UpSampling2D, concatenate, BatchNormalization, Dropout\n",
    "from keras.metrics import MeanIoU\n",
    "from sklearn.model_selection import train_test_split\n",
    "from sklearn.metrics import f1_score\n",
    "from sklearn.metrics import precision_score, recall_score\n",
    "from keras import backend as K\n",
    "from keras.losses import binary_crossentropy\n"
   ],
   "metadata": {
    "id": "gtBBZ7c07dkF"
   }
  },
  {
   "cell_type": "markdown",
   "source": [
    "2. Carregamento e Visualização dos Dados"
   ],
   "metadata": {
    "collapsed": false,
    "id": "MZJaS8mc7dkH"
   }
  },
  {
   "cell_type": "code",
   "execution_count": 2,
   "outputs": [
    {
     "name": "stderr",
     "output_type": "stream",
     "text": [
      "C:\\Users\\USER\\solar\\lib\\site-packages\\rasterio\\__init__.py:331: NotGeoreferencedWarning: Dataset has no geotransform, gcps, or rpcs. The identity matrix will be returned.\n",
      "  dataset = DatasetReader(path, driver=driver, sharing=sharing, **kwargs)\n"
     ]
    },
    {
     "data": {
      "text/plain": "<Figure size 1000x1000 with 10 Axes>",
      "image/png": "[encoded data removed]"
     },
     "metadata": {},
     "output_type": "display_data"
    }
   ],
   "source": [
    "def load_image_rasterio(image_path):\n",
    "    try:\n",
    "        with rasterio.open(image_path) as src:\n",
    "            return src.read()\n",
    "    except IOError:\n",
    "        return None\n",
    "\n",
    "def load_image_pillow(image_path):\n",
    "    try:\n",
    "        with Image.open(image_path) as img:\n",
    "            return np.array(img)\n",
    "    except IOError:\n",
    "        return None\n",
    "\n",
    "# Definindo os caminhos das pastas onde as imagens e máscaras estão armazenadas\n",
    "image_folder = '../solarpanel/data/external/train/s2_image'\n",
    "mask_folder = '../solarpanel/data/external/train/mask'\n",
    "\n",
    "# Número total de imagens e máscaras\n",
    "num_images = 2066  # Ajuste este número conforme necessário\n",
    "\n",
    "# Listas para armazenar as imagens e máscaras carregadas\n",
    "images = []\n",
    "masks = []\n",
    "\n",
    "# Carregando todas as imagens e máscaras\n",
    "for i in range(num_images):\n",
    "    image_path = os.path.join(image_folder, f'train_s2_image_{i}.tif')\n",
    "    mask_path = os.path.join(mask_folder, f'train_mask_{i}.tif')\n",
    "\n",
    "    image = load_image_rasterio(image_path)\n",
    "    mask = load_image_pillow(mask_path)\n",
    "\n",
    "    if image is not None and mask is not None:\n",
    "        images.append(image)\n",
    "        masks.append(mask)\n",
    "    else:\n",
    "        print(f\"Erro ao carregar a imagem ou a máscara: {i}\")\n",
    "\n",
    "\n",
    "# Número de amostras a serem visualizadas\n",
    "num_samples = 5\n",
    "\n",
    "# Ajuste o tamanho da figura conforme necessário\n",
    "plt.figure(figsize=(10, 2 * num_samples))\n",
    "\n",
    "for i in range(num_samples):\n",
    "    image_to_show = images[i]\n",
    "    mask_to_show = masks[i]\n",
    "\n",
    "    # Ajuste para múltiplas bandas, se necessário\n",
    "    if image_to_show.shape[0] > 3:\n",
    "        image_to_show = image_to_show[0]\n",
    "    image_to_show = np.moveaxis(image_to_show, 0, -1) if image_to_show.shape[0] < image_to_show.shape[1] else image_to_show\n",
    "\n",
    "    plt.subplot(num_samples, 2, 2 * i + 1)\n",
    "    plt.imshow(image_to_show)\n",
    "    plt.title(f'Image {i}')\n",
    "    plt.axis('off')\n",
    "\n",
    "    plt.subplot(num_samples, 2, 2 * i + 2)\n",
    "    plt.imshow(mask_to_show, cmap='gray')\n",
    "    plt.title(f'Mask {i}')\n",
    "    plt.axis('off')\n",
    "\n",
    "plt.tight_layout()\n",
    "plt.show()"
   ],
   "metadata": {
    "colab": {
     "base_uri": "https://localhost:8080/",
     "height": 1000
    },
    "id": "uOYkIASX7dkH",
    "outputId": "851ee3bf-9c29-4d97-ca1f-482f805f09c0"
   }
  },
  {
   "cell_type": "markdown",
   "source": [
    "3. Pré-processamento"
   ],
   "metadata": {
    "collapsed": false,
    "id": "9UiY9hLE7dkJ"
   }
  },
  {
   "cell_type": "code",
   "execution_count": 4,
   "outputs": [],
   "source": [
    "def preprocess_image(image, target_size):\n",
    "    # Se a imagem tem múltiplas bandas, ajuste conforme necessário\n",
    "    if image.shape[0] > 3:\n",
    "        # Exemplo: usando apenas a primeira banda\n",
    "        image = image[0]\n",
    "\n",
    "    # Reordenar as dimensões se necessário\n",
    "    image = np.moveaxis(image, 0, -1) if image.shape[0] < image.shape[1] else image\n",
    "\n",
    "    # Redimensionamento e normalização\n",
    "    image = cv2.resize(image, target_size)\n",
    "    image = image / 255.0\n",
    "    return image\n",
    "\n",
    "def preprocess_mask(mask, target_size):\n",
    "    # Redimensionamento e expansão da dimensão\n",
    "    mask = cv2.resize(mask, target_size)\n",
    "    mask = np.expand_dims(mask, axis=-1)\n",
    "    return mask\n",
    "\n",
    "# Exemplo de uso\n",
    "processed_image = preprocess_image(image, (64, 64))\n",
    "processed_mask = preprocess_mask(mask, (64, 64))"
   ],
   "metadata": {
    "id": "HXGEMzQL7dkJ"
   }
  },
  {
   "cell_type": "markdown",
   "source": [
    "4. Construção do Modelo"
   ],
   "metadata": {
    "collapsed": false,
    "id": "5aNA8-2Z7dkK"
   }
  },
  {
   "cell_type": "code",
   "execution_count": 5,
   "outputs": [],
   "source": [
    "# Definição da U-Net\n",
    "def unet_model(input_size=(64, 64, 3)):\n",
    "    inputs = Input(input_size)\n",
    "\n",
    "    # Camada 1\n",
    "    conv1 = Conv2D(64, (3, 3), activation='relu', padding='same')(inputs)\n",
    "    conv1 = BatchNormalization()(conv1)\n",
    "    conv1 = Conv2D(64, (3, 3), activation='relu', padding='same')(conv1)\n",
    "    conv1 = BatchNormalization()(conv1)\n",
    "    pool1 = MaxPooling2D(pool_size=(2, 2))(conv1)\n",
    "\n",
    "    # Camada 2\n",
    "    conv2 = Conv2D(128, (3, 3), activation='relu', padding='same')(pool1)\n",
    "    conv2 = BatchNormalization()(conv2)\n",
    "    conv2 = Conv2D(128, (3, 3), activation='relu', padding='same')(conv2)\n",
    "    conv2 = BatchNormalization()(conv2)\n",
    "    pool2 = MaxPooling2D(pool_size=(2, 2))(conv2)\n",
    "\n",
    "    # Camada 3\n",
    "    conv3 = Conv2D(256, (3, 3), activation='relu', padding='same')(pool2)\n",
    "    conv3 = BatchNormalization()(conv3)\n",
    "    conv3 = Conv2D(256, (3, 3), activation='relu', padding='same')(conv3)\n",
    "    conv3 = BatchNormalization()(conv3)\n",
    "    pool3 = MaxPooling2D(pool_size=(2, 2))(conv3)\n",
    "\n",
    "    # Camada 4 - Ponte\n",
    "    conv4 = Conv2D(512, (3, 3), activation='relu', padding='same')(pool3)\n",
    "    conv4 = BatchNormalization()(conv4)\n",
    "    conv4 = Dropout(0.5)(conv4)\n",
    "    conv4 = Conv2D(512, (3, 3), activation='relu', padding='same')(conv4)\n",
    "    conv4 = BatchNormalization()(conv4)\n",
    "\n",
    "    # Upsampling 1\n",
    "    up1 = UpSampling2D(size=(2, 2))(conv4)\n",
    "    merge1 = concatenate([conv3, up1], axis=3)\n",
    "    conv5 = Conv2D(256, (3, 3), activation='relu', padding='same')(merge1)\n",
    "    conv5 = BatchNormalization()(conv5)\n",
    "    conv5 = Conv2D(256, (3, 3), activation='relu', padding='same')(conv5)\n",
    "    conv5 = BatchNormalization()(conv5)\n",
    "\n",
    "    # Upsampling 2\n",
    "    up2 = UpSampling2D(size=(2, 2))(conv5)\n",
    "    merge2 = concatenate([conv2, up2], axis=3)\n",
    "    conv6 = Conv2D(128, (3, 3), activation='relu', padding='same')(merge2)\n",
    "    conv6 = BatchNormalization()(conv6)\n",
    "    conv6 = Conv2D(128, (3, 3), activation='relu', padding='same')(conv6)\n",
    "    conv6 = BatchNormalization()(conv6)\n",
    "\n",
    "    # Upsampling 3\n",
    "    up3 = UpSampling2D(size=(2, 2))(conv6)\n",
    "    merge3 = concatenate([conv1, up3], axis=3)\n",
    "    conv7 = Conv2D(64, (3, 3), activation='relu', padding='same')(merge3)\n",
    "    conv7 = BatchNormalization()(conv7)\n",
    "    conv7 = Conv2D(64, (3, 3), activation='relu', padding='same')(conv7)\n",
    "    conv7 = BatchNormalization()(conv7)\n",
    "\n",
    "    # Saída do modelo\n",
    "    outputs = Conv2D(1, (1, 1), activation='sigmoid')(conv7)\n",
    "\n",
    "    model = Model(inputs=[inputs], outputs=[outputs])\n",
    "    return model\n",
    "\n",
    "# Funções de perda\n",
    "def dice_loss(y_true, y_pred):\n",
    "    numerator = 2 * K.sum(y_true * y_pred) + K.epsilon()\n",
    "    denominator = K.sum(y_true + y_pred) + K.epsilon()\n",
    "    return 1 - numerator / denominator\n",
    "\n",
    "def combined_loss(y_true, y_pred):\n",
    "    return binary_crossentropy(y_true, y_pred) + dice_loss(y_true, y_pred)\n",
    "\n",
    "\n",
    "# Instanciar o modelo\n",
    "model = unet_model()\n",
    "\n",
    "model.compile(optimizer='adam', loss=combined_loss, metrics=['accuracy', MeanIoU(num_classes=2)])\n",
    "\n"
   ],
   "metadata": {
    "id": "UINJrPZ97dkL"
   }
  },
  {
   "cell_type": "markdown",
   "source": [
    "5. Treinamento e Validação"
   ],
   "metadata": {
    "collapsed": false,
    "id": "vmb6WBCv7dkL"
   }
  },
  {
   "cell_type": "code",
   "execution_count": 26,
   "outputs": [
    {
     "output_type": "stream",
     "name": "stdout",
     "text": [
      "Epoch 1/10\n",
      "59/59 [==============================] - 839s 14s/step - loss: 1.5658 - accuracy: 0.8204 - mean_io_u_5: 1.0000 - val_loss: 1.2593 - val_accuracy: 0.9150 - val_mean_io_u_5: 1.0000\n",
      "Epoch 2/10\n",
      "59/59 [==============================] - 829s 14s/step - loss: 1.2825 - accuracy: 0.9119 - mean_io_u_5: 1.0000 - val_loss: 1.1564 - val_accuracy: 0.9150 - val_mean_io_u_5: 1.0000\n",
      "Epoch 3/10\n",
      "59/59 [==============================] - 817s 14s/step - loss: 1.1158 - accuracy: 0.9119 - mean_io_u_5: 1.0000 - val_loss: 1.0692 - val_accuracy: 0.9150 - val_mean_io_u_5: 1.0000\n",
      "Epoch 4/10\n",
      "59/59 [==============================] - 797s 14s/step - loss: 1.0520 - accuracy: 0.9119 - mean_io_u_5: 1.0000 - val_loss: 1.0363 - val_accuracy: 0.9150 - val_mean_io_u_5: 1.0000\n",
      "Epoch 5/10\n",
      "59/59 [==============================] - 826s 14s/step - loss: 1.0283 - accuracy: 0.9119 - mean_io_u_5: 1.0000 - val_loss: 1.0211 - val_accuracy: 0.9150 - val_mean_io_u_5: 1.0000\n",
      "Epoch 6/10\n",
      "59/59 [==============================] - 835s 14s/step - loss: 1.0177 - accuracy: 0.9119 - mean_io_u_5: 1.0000 - val_loss: 1.0141 - val_accuracy: 0.9150 - val_mean_io_u_5: 1.0000\n",
      "Epoch 7/10\n",
      "59/59 [==============================] - 854s 14s/step - loss: 1.0121 - accuracy: 0.9119 - mean_io_u_5: 1.0000 - val_loss: 1.0101 - val_accuracy: 0.9150 - val_mean_io_u_5: 1.0000\n",
      "Epoch 8/10\n",
      "59/59 [==============================] - 811s 14s/step - loss: 1.0088 - accuracy: 0.9119 - mean_io_u_5: 1.0000 - val_loss: 1.0075 - val_accuracy: 0.9150 - val_mean_io_u_5: 1.0000\n",
      "Epoch 9/10\n",
      "59/59 [==============================] - 810s 14s/step - loss: 1.0067 - accuracy: 0.9119 - mean_io_u_5: 1.0000 - val_loss: 1.0058 - val_accuracy: 0.9150 - val_mean_io_u_5: 1.0000\n",
      "Epoch 10/10\n",
      "59/59 [==============================] - 836s 14s/step - loss: 1.0053 - accuracy: 0.9119 - mean_io_u_5: 1.0000 - val_loss: 1.0047 - val_accuracy: 0.9150 - val_mean_io_u_5: 1.0000\n"
     ]
    },
    {
     "output_type": "execute_result",
     "data": {
      "text/plain": [
       "<keras.src.callbacks.History at 0x7d29cee78c40>"
      ]
     },
     "metadata": {},
     "execution_count": 26
    }
   ],
   "source": [
    "# Funções de pré-processamento\n",
    "def standardize_image(image, target_size=(64, 64), num_channels=3):\n",
    "    image_resized = cv2.resize(image, target_size)\n",
    "    if image_resized.ndim == 2:\n",
    "        image_resized = np.expand_dims(image_resized, axis=-1)\n",
    "    if image_resized.shape[-1] != num_channels:\n",
    "        if image_resized.shape[-1] > num_channels:\n",
    "            image_resized = image_resized[..., :num_channels]\n",
    "        else:\n",
    "            padding = [(0, 0) for _ in range(image_resized.ndim)]\n",
    "            padding[-1] = (0, num_channels - image_resized.shape[-1])\n",
    "            image_resized = np.pad(image_resized, padding, mode='constant', constant_values=0)\n",
    "    return image_resized.astype(np.float32) / 255.0\n",
    "\n",
    "def standardize_mask(mask, target_size=(64, 64)):\n",
    "    mask_resized = cv2.resize(mask, target_size)\n",
    "    if mask_resized.ndim == 2:\n",
    "        mask_resized = np.expand_dims(mask_resized, axis=-1)\n",
    "    return mask_resized.astype(np.float32) / 255.0\n",
    "\n",
    "\n",
    "# Aplicando o pré-processamento\n",
    "standardized_images = [standardize_image(img) for img in images]\n",
    "standardized_masks = [standardize_mask(mask) for mask in masks]\n",
    "\n",
    "# Diagnosticar quaisquer problemas\n",
    "for i, img in enumerate(standardized_images):\n",
    "    if img.shape != (64, 64, 3):\n",
    "        print(f\"Inconsistência encontrada na imagem {i}, forma: {img.shape}\")\n",
    "for i, mask in enumerate(standardized_masks):\n",
    "    if mask.shape != (64, 64, 1):\n",
    "        print(f\"Inconsistência encontrada na máscara {i}, forma: {mask.shape}\")\n",
    "\n",
    "# Convertendo para arrays NumPy\n",
    "images_array = np.array(standardized_images, dtype=np.float32) / 255.0\n",
    "masks_array = np.array(standardized_masks, dtype=np.float32) / 255.0\n",
    "\n",
    "# Divisão dos dados em conjuntos de treino e validação\n",
    "X_train, X_val, y_train, y_val = train_test_split(images_array, masks_array, test_size=0.1, random_state=42)\n",
    "\n",
    "# Treinamento do modelo\n",
    "model.fit(X_train, y_train, validation_data=(X_val, y_val), batch_size=32, epochs=10)"
   ],
   "metadata": {
    "colab": {
     "base_uri": "https://localhost:8080/"
    },
    "id": "2P2eef-c7dkM",
    "outputId": "375d6128-4175-4898-f4e0-c51fea584bd9"
   }
  },
  {
   "cell_type": "markdown",
   "source": [
    "6. Avaliação do Modelo"
   ],
   "metadata": {
    "collapsed": false,
    "id": "sl4qHCQj7dkM"
   }
  },
  {
   "cell_type": "code",
   "source": [
    "# Função para calcular IoU\n",
    "def calculate_iou(y_true, y_pred):\n",
    "    intersection = np.logical_and(y_true, y_pred)\n",
    "    union = np.logical_or(y_true, y_pred)\n",
    "    iou_score = np.sum(intersection) / np.sum(union)\n",
    "    return iou_score\n",
    "\n",
    "# Gerar previsões\n",
    "predictions = model.predict(X_val)\n",
    "\n",
    "# Binarizar previsões e valores reais\n",
    "predictions_binarized = (predictions > 0.5).astype(np.float32)\n",
    "y_val_binarized = (y_val > 0.5).astype(np.float32)\n",
    "\n",
    "# Achatamento dos arrays para cálculo das métricas\n",
    "y_val_flat = y_val_binarized.flatten()\n",
    "predictions_flat = predictions_binarized.flatten()\n",
    "\n",
    "# Cálculo das métricas\n",
    "precision = precision_score(y_val_flat, predictions_flat)\n",
    "recall = recall_score(y_val_flat, predictions_flat)\n",
    "iou = calculate_iou(y_val_flat, predictions_flat)\n",
    "\n",
    "# Exibindo as métricas\n",
    "print(f\"Precision: {precision}\")\n",
    "print(f\"Recall: {recall}\")\n",
    "print(f\"IoU: {iou}\")\n"
   ],
   "metadata": {
    "colab": {
     "base_uri": "https://localhost:8080/"
    },
    "id": "Q9ygU1LbZFnB",
    "outputId": "dcdc9367-e517-49e8-9e90-62f9525210bc"
   },
   "execution_count": 33,
   "outputs": [
    {
     "output_type": "stream",
     "name": "stdout",
     "text": [
      "7/7 [==============================] - 22s 3s/step\n"
     ]
    },
    {
     "output_type": "stream",
     "name": "stderr",
     "text": [
      "/usr/local/lib/python3.10/dist-packages/sklearn/metrics/_classification.py:1344: UndefinedMetricWarning: Precision is ill-defined and being set to 0.0 due to no predicted samples. Use `zero_division` parameter to control this behavior.\n",
      "  _warn_prf(average, modifier, msg_start, len(result))\n"
     ]
    },
    {
     "output_type": "stream",
     "name": "stdout",
     "text": [
      "Precision: 0.0\n",
      "Recall: 0.0\n",
      "IoU: nan\n"
     ]
    },
    {
     "output_type": "stream",
     "name": "stderr",
     "text": [
      "/usr/local/lib/python3.10/dist-packages/sklearn/metrics/_classification.py:1344: UndefinedMetricWarning: Recall is ill-defined and being set to 0.0 due to no true samples. Use `zero_division` parameter to control this behavior.\n",
      "  _warn_prf(average, modifier, msg_start, len(result))\n",
      "<ipython-input-33-ad1517f2738f>:5: RuntimeWarning: invalid value encountered in long_scalars\n",
      "  iou_score = np.sum(intersection) / np.sum(union)\n"
     ]
    }
   ]
  },
  {
   "cell_type": "code",
   "source": [
    "# Gere previsões com o modelo\n",
    "predictions = model.predict(X_val)\n",
    "\n",
    "# Binarizando as previsões\n",
    "predictions_binarized = (predictions > 0.5).astype(np.float32)\n",
    "\n",
    "# Binarizando os valores reais, se necessário\n",
    "y_val_binarized = (y_val > 0.5).astype(np.float32)\n",
    "\n",
    "# Achatamento dos arrays\n",
    "y_val_flat = y_val_binarized.flatten()\n",
    "predictions_flat = predictions_binarized.flatten()\n",
    "\n",
    "# Calculando o F1-Score\n",
    "f1 = f1_score(y_val_flat, predictions_flat)\n",
    "print(f\"F1-Score: {f1}\")\n"
   ],
   "metadata": {
    "id": "JJlcyG_KFWaD",
    "outputId": "80bff080-bf7e-4d09-ce9d-81a6977b2cdd",
    "colab": {
     "base_uri": "https://localhost:8080/"
    }
   },
   "execution_count": 31,
   "outputs": [
    {
     "output_type": "stream",
     "name": "stdout",
     "text": [
      "7/7 [==============================] - 26s 3s/step\n",
      "F1-Score: 0.0\n"
     ]
    },
    {
     "output_type": "stream",
     "name": "stderr",
     "text": [
      "/usr/local/lib/python3.10/dist-packages/sklearn/metrics/_classification.py:1609: UndefinedMetricWarning: F-score is ill-defined and being set to 0.0 due to no true nor predicted samples. Use `zero_division` parameter to control this behavior.\n",
      "  _warn_prf(average, \"true nor predicted\", \"F-score is\", len(true_sum))\n"
     ]
    }
   ]
  }
 ],
 "metadata": {
  "kernelspec": {
   "display_name": "Python 3",
   "language": "python",
   "name": "python3"
  },
  "language_info": {
   "codemirror_mode": {
    "name": "ipython",
    "version": 2
   },
   "file_extension": ".py",
   "mimetype": "text/x-python",
   "name": "python",
   "nbconvert_exporter": "python",
   "pygments_lexer": "ipython2",
   "version": "2.7.6"
  },
  "colab": {
   "provenance": []
  }
 },
 "nbformat": 4,
 "nbformat_minor": 0
}
